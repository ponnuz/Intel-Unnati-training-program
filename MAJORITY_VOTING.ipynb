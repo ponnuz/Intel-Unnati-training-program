{
  "nbformat": 4,
  "nbformat_minor": 0,
  "metadata": {
    "colab": {
      "provenance": []
    },
    "kernelspec": {
      "name": "python3",
      "display_name": "Python 3"
    },
    "language_info": {
      "name": "python"
    }
  },
  "cells": [
    {
      "cell_type": "code",
      "execution_count": 1,
      "metadata": {
        "id": "U3aRP_Yf-oi9"
      },
      "outputs": [],
      "source": [
        "# IMPORTS\n",
        "import pandas as pd\n",
        "import numpy as np\n",
        "from sklearn.tree import DecisionTreeClassifier\n",
        "from sklearn.neighbors import KNeighborsClassifier\n",
        "from sklearn.linear_model import LogisticRegression\n",
        "from sklearn.model_selection import train_test_split\n",
        "import statistics as st\n",
        "import warnings\n",
        "warnings.filterwarnings('ignore')"
      ]
    },
    {
      "cell_type": "code",
      "source": [
        "# SPLITTING THE DATASET\n",
        "df = pd.read_csv('/content/dataset.csv')\n",
        "x = df.drop('target', axis = 1)\n",
        "y = df['target']\n",
        "x_train, x_test, y_train, y_test = train_test_split(x, y, test_size=0.2, random_state=0)"
      ],
      "metadata": {
        "id": "Wi0Ya4KK_LY8"
      },
      "execution_count": 2,
      "outputs": []
    },
    {
      "cell_type": "code",
      "source": [
        "# MODELS CREATION\n",
        "model1 = DecisionTreeClassifier()\n",
        "model2 = KNeighborsClassifier()\n",
        "model3= LogisticRegression()\n",
        "\n",
        "model1.fit(x_train,y_train)\n",
        "model2.fit(x_train,y_train)\n",
        "model3.fit(x_train,y_train)\n",
        "\n",
        "# PREDICTION\n",
        "pred1=model1.predict(x_test)\n",
        "pred2=model2.predict(x_test)\n",
        "pred3=model3.predict(x_test)\n",
        "\n",
        "# FINAL_PREDICTION\n",
        "final_pred = np.array([])\n",
        "for i in range(0,len(x_test)):\n",
        "    final_pred = np.append(final_pred, st.mode([pred1[i], pred2[i], pred3[i]]))\n",
        "print(final_pred)"
      ],
      "metadata": {
        "colab": {
          "base_uri": "https://localhost:8080/"
        },
        "id": "6lPMAx19_OlE",
        "outputId": "5b2177d2-9c7f-48c6-f301-0de37a040797"
      },
      "execution_count": 3,
      "outputs": [
        {
          "output_type": "stream",
          "name": "stdout",
          "text": [
            "[0. 1. 1. 0. 0. 0. 0. 0. 0. 0. 1. 1. 0. 1. 1. 1. 0. 1. 0. 1. 1. 0. 0. 0.\n",
            " 0. 0. 0. 0. 1. 1. 1. 0. 1. 1. 1. 1. 0. 1. 0. 0. 1. 1. 1. 0. 0. 1. 1. 1.\n",
            " 0. 1. 1. 1. 1. 0. 1. 0. 1. 1. 1. 1. 1.]\n"
          ]
        }
      ]
    },
    {
      "cell_type": "code",
      "source": [
        "from sklearn.ensemble import VotingClassifier\n",
        "model = VotingClassifier(estimators=[('lr', model3), ('dt', model1),('knn', model2)], voting='hard')\n",
        "model.fit(x_train,y_train)\n",
        "model.score(x_test,y_test)"
      ],
      "metadata": {
        "colab": {
          "base_uri": "https://localhost:8080/"
        },
        "id": "42Svfb3Z_nzm",
        "outputId": "a5e0e62e-dfa0-4819-ed1d-4c78dd7ee513"
      },
      "execution_count": 7,
      "outputs": [
        {
          "output_type": "execute_result",
          "data": {
            "text/plain": [
              "0.8524590163934426"
            ]
          },
          "metadata": {},
          "execution_count": 7
        }
      ]
    }
  ]
}